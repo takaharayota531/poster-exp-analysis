{
 "cells": [
  {
   "cell_type": "code",
   "execution_count": 31,
   "metadata": {},
   "outputs": [
    {
     "name": "stdout",
     "output_type": "stream",
     "text": [
      "m1の名前リスト:\n",
      "曹 薇\n",
      "井内 航\n",
      "石井 隆裕\n",
      "橋本 悠\n",
      "秦 珠実\n",
      "オオグチ ハルキ\n",
      "大西 浩睴\n",
      "付 力田\n"
     ]
    }
   ],
   "source": [
    "import requests\n",
    "from bs4 import BeautifulSoup\n",
    "\n",
    "def extract_m1_names(url):\n",
    "    response = requests.get(url,verify=False)\n",
    "    soup = BeautifulSoup(response.content, 'html.parser')\n",
    "    \n",
    "    m1_names = []\n",
    "    \n",
    "    # print(soup)\n",
    "    # 例: テキストに\"m1\"を含む行を探す\n",
    "    for member in soup.find_all('tr'):\n",
    "        columns = member.find_all('td')\n",
    "        # print(columns)\n",
    "        if columns:\n",
    "            name = columns[1].get_text(strip=True)\n",
    "            status = columns[2].get_text(strip=True)\n",
    "            # print(status)\n",
    "            if 'M1' in status:\n",
    "                m1_names.append(name)\n",
    "    \n",
    "    return m1_names\n",
    "\n",
    "url = 'https://www.eis.t.u-tokyo.ac.jp/people.html'  # 実際のURLに置き換えてください\n",
    "m1_names = extract_m1_names(url)\n",
    "\n",
    "print(\"m1の名前リスト:\")\n",
    "for name in m1_names:\n",
    "    print(name)\n"
   ]
  },
  {
   "cell_type": "code",
   "execution_count": null,
   "metadata": {},
   "outputs": [],
   "source": []
  }
 ],
 "metadata": {
  "kernelspec": {
   "display_name": "Python 3",
   "language": "python",
   "name": "python3"
  },
  "language_info": {
   "codemirror_mode": {
    "name": "ipython",
    "version": 3
   },
   "file_extension": ".py",
   "mimetype": "text/x-python",
   "name": "python",
   "nbconvert_exporter": "python",
   "pygments_lexer": "ipython3",
   "version": "3.10.12"
  }
 },
 "nbformat": 4,
 "nbformat_minor": 2
}
