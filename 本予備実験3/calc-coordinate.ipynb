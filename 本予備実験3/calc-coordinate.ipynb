{
 "cells": [
  {
   "cell_type": "code",
   "execution_count": 1,
   "metadata": {},
   "outputs": [
    {
     "data": {
      "text/plain": [
       "[(0.31, -0.04, 0.034999999999999996),\n",
       " (0.31, -0.04, 0.075),\n",
       " (0.31, -0.04, 0.11499999999999999),\n",
       " (0.31, 0.0, 0.034999999999999996),\n",
       " (0.31, 0.0, 0.075),\n",
       " (0.31, 0.0, 0.11499999999999999),\n",
       " (0.31, 0.04, 0.034999999999999996),\n",
       " (0.31, 0.04, 0.075),\n",
       " (0.31, 0.04, 0.11499999999999999),\n",
       " (0.35, -0.04, 0.034999999999999996),\n",
       " (0.35, -0.04, 0.075),\n",
       " (0.35, -0.04, 0.11499999999999999),\n",
       " (0.35, 0.0, 0.034999999999999996),\n",
       " (0.35, 0.0, 0.075),\n",
       " (0.35, 0.0, 0.11499999999999999),\n",
       " (0.35, 0.04, 0.034999999999999996),\n",
       " (0.35, 0.04, 0.075),\n",
       " (0.35, 0.04, 0.11499999999999999),\n",
       " (0.38999999999999996, -0.04, 0.034999999999999996),\n",
       " (0.38999999999999996, -0.04, 0.075),\n",
       " (0.38999999999999996, -0.04, 0.11499999999999999),\n",
       " (0.38999999999999996, 0.0, 0.034999999999999996),\n",
       " (0.38999999999999996, 0.0, 0.075),\n",
       " (0.38999999999999996, 0.0, 0.11499999999999999),\n",
       " (0.38999999999999996, 0.04, 0.034999999999999996),\n",
       " (0.38999999999999996, 0.04, 0.075),\n",
       " (0.38999999999999996, 0.04, 0.11499999999999999)]"
      ]
     },
     "execution_count": 1,
     "metadata": {},
     "output_type": "execute_result"
    }
   ],
   "source": [
    "def calculate_target_coordinates(grid_size, interval, start_coordinate):\n",
    "    \"\"\"\n",
    "    Calculate the coordinates of objects in a 3D grid.\n",
    "\n",
    "    :param grid_size: The size of the 3D grid (e.g., 3 for a 3x3x3 grid).\n",
    "    :param interval: The spacing between objects in the grid.\n",
    "    :param start_coordinate: The starting coordinate as a tuple (x, y, z).\n",
    "    :return: A list of tuples representing the coordinates of each object in the grid.\n",
    "    \"\"\"\n",
    "    mid_index = grid_size // 2\n",
    "    coordinates = []\n",
    "\n",
    "    for x in range(grid_size):\n",
    "        for y in range(grid_size):\n",
    "            for z in range(grid_size):\n",
    "                position_offset_x = (x - mid_index) * interval\n",
    "                position_offset_y = (y - mid_index) * interval\n",
    "                position_offset_z = (z - mid_index) * interval\n",
    "\n",
    "                new_position = (\n",
    "                    start_coordinate[0] + position_offset_x,\n",
    "                    start_coordinate[1] + position_offset_y,\n",
    "                    start_coordinate[2] + position_offset_z\n",
    "                )\n",
    "                coordinates.append(new_position)\n",
    "\n",
    "    return coordinates\n",
    "\n",
    "\n",
    "# Example usage\n",
    "grid_size = 3\n",
    "interval = 0.04\n",
    "start_coordinate = (0.35, 0.0, 0.075)\n",
    "\n",
    "coordinates = calculate_target_coordinates(grid_size, interval, start_coordinate)\n",
    "coordinates\n"
   ]
  },
  {
   "cell_type": "code",
   "execution_count": 3,
   "metadata": {},
   "outputs": [
    {
     "data": {
      "text/plain": [
       "[(0.25, -0.1, -0.025),\n",
       " (0.25, -0.1, 0.075),\n",
       " (0.25, -0.1, 0.175),\n",
       " (0.25, 0.0, -0.025),\n",
       " (0.25, 0.0, 0.075),\n",
       " (0.25, 0.0, 0.175),\n",
       " (0.25, 0.1, -0.025),\n",
       " (0.25, 0.1, 0.075),\n",
       " (0.25, 0.1, 0.175),\n",
       " (0.35, -0.1, -0.025),\n",
       " (0.35, -0.1, 0.075),\n",
       " (0.35, -0.1, 0.175),\n",
       " (0.35, 0.0, -0.025),\n",
       " (0.35, 0.0, 0.075),\n",
       " (0.35, 0.0, 0.175),\n",
       " (0.35, 0.1, -0.025),\n",
       " (0.35, 0.1, 0.075),\n",
       " (0.35, 0.1, 0.175),\n",
       " (0.45, -0.1, -0.025),\n",
       " (0.45, -0.1, 0.075),\n",
       " (0.45, -0.1, 0.175),\n",
       " (0.45, 0.0, -0.025),\n",
       " (0.45, 0.0, 0.075),\n",
       " (0.45, 0.0, 0.175),\n",
       " (0.45, 0.1, -0.025),\n",
       " (0.45, 0.1, 0.075),\n",
       " (0.45, 0.1, 0.175)]"
      ]
     },
     "execution_count": 3,
     "metadata": {},
     "output_type": "execute_result"
    }
   ],
   "source": [
    "def calculate_target_coordinates_with_precision(grid_size, interval, start_coordinate):\n",
    "    \"\"\"\n",
    "    Calculate the coordinates of objects in a 3D grid with precision up to 3 decimal places.\n",
    "\n",
    "    :param grid_size: The size of the 3D grid (e.g., 3 for a 3x3x3 grid).\n",
    "    :param interval: The spacing between objects in the grid.\n",
    "    :param start_coordinate: The starting coordinate as a tuple (x, y, z).\n",
    "    :return: A list of tuples representing the coordinates of each object in the grid.\n",
    "    \"\"\"\n",
    "    mid_index = grid_size // 2\n",
    "    coordinates = []\n",
    "\n",
    "    for x in range(grid_size):\n",
    "        for y in range(grid_size):\n",
    "            for z in range(grid_size):\n",
    "                position_offset_x = round((x - mid_index) * interval, 3)\n",
    "                position_offset_y = round((y - mid_index) * interval, 3)\n",
    "                position_offset_z = round((z - mid_index) * interval, 3)\n",
    "\n",
    "                new_position = (\n",
    "                    round(start_coordinate[0] + position_offset_x, 3),\n",
    "                    round(start_coordinate[1] + position_offset_y, 3),\n",
    "                    round(start_coordinate[2] + position_offset_z, 3)\n",
    "                )\n",
    "                coordinates.append(new_position)\n",
    "\n",
    "    return coordinates\n",
    "\n",
    "\n",
    "# Example usage\n",
    "grid_size = 3\n",
    "interval = 0.1\n",
    "start_coordinate = (0.35, 0.0, 0.075)\n",
    "\n",
    "coordinates = calculate_target_coordinates_with_precision(grid_size, interval, start_coordinate)\n",
    "coordinates\n"
   ]
  },
  {
   "cell_type": "code",
   "execution_count": null,
   "metadata": {},
   "outputs": [],
   "source": []
  }
 ],
 "metadata": {
  "kernelspec": {
   "display_name": "Python 3",
   "language": "python",
   "name": "python3"
  },
  "language_info": {
   "codemirror_mode": {
    "name": "ipython",
    "version": 3
   },
   "file_extension": ".py",
   "mimetype": "text/x-python",
   "name": "python",
   "nbconvert_exporter": "python",
   "pygments_lexer": "ipython3",
   "version": "3.12.4"
  }
 },
 "nbformat": 4,
 "nbformat_minor": 2
}
