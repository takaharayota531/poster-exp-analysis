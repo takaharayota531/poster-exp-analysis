{
 "cells": [
  {
   "cell_type": "code",
   "execution_count": 16,
   "metadata": {},
   "outputs": [
    {
     "name": "stdout",
     "output_type": "stream",
     "text": [
      "647.14416\n",
      "672.0343200000001\n",
      "696.9244800000001\n",
      "721.8146399999999\n",
      "871.1555999999999\n"
     ]
    }
   ],
   "source": [
    "const_value=622.254\n",
    "step=0.001\n",
    "one_step=step*4\n",
    "\n",
    "\n",
    "\n",
    "print(const_value*(1+10*one_step))\n",
    "print(const_value*(1+20*one_step))\n",
    "print(const_value*(1+30*one_step))\n",
    "print(const_value*(1+40*one_step))\n",
    "print(const_value*(1+100*one_step))"
   ]
  },
  {
   "cell_type": "code",
   "execution_count": 17,
   "metadata": {},
   "outputs": [
    {
     "name": "stdout",
     "output_type": "stream",
     "text": [
      "1244.508\n",
      "2489.016\n",
      "4978.032\n",
      "637188.096\n"
     ]
    }
   ],
   "source": [
    "print(const_value*2**(1))\n",
    "print(const_value*2**(2))\n",
    "print(const_value*2**(3))\n",
    "print(const_value*2**(10))"
   ]
  },
  {
   "cell_type": "code",
   "execution_count": null,
   "metadata": {},
   "outputs": [],
   "source": []
  }
 ],
 "metadata": {
  "kernelspec": {
   "display_name": "Python 3",
   "language": "python",
   "name": "python3"
  },
  "language_info": {
   "codemirror_mode": {
    "name": "ipython",
    "version": 3
   },
   "file_extension": ".py",
   "mimetype": "text/x-python",
   "name": "python",
   "nbconvert_exporter": "python",
   "pygments_lexer": "ipython3",
   "version": "3.12.4"
  }
 },
 "nbformat": 4,
 "nbformat_minor": 2
}
