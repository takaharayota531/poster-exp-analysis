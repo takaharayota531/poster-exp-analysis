{
 "cells": [
  {
   "cell_type": "code",
   "execution_count": 4,
   "metadata": {},
   "outputs": [],
   "source": [
    "import pandas as pd\n",
    "import os"
   ]
  },
  {
   "cell_type": "code",
   "execution_count": 15,
   "metadata": {},
   "outputs": [],
   "source": [
    "def calculate_time_averages(df,method):\n",
    "    # データ範囲を取得\n",
    "    data = df.values\n",
    "    # 結果を出力する\n",
    "    results=[]\n",
    "    place_value=0\n",
    "    row_count=0\n",
    "   \n",
    "   \n",
    "    tmp,tmp_time=data[0][0].split(\":\")\n",
    "    consumed_time=float(tmp_time)\n",
    "    tmp,tmp_accuracy=data[0][1].split(\":\")\n",
    "    accuracy=float(tmp_accuracy)\n",
    "    \n",
    "    print(consumed_time,accuracy)\n",
    "    return [[method,consumed_time,accuracy]]\n",
    "            \n",
    "    \n",
    "    \n",
    "    "
   ]
  },
  {
   "cell_type": "code",
   "execution_count": 16,
   "metadata": {},
   "outputs": [],
   "source": [
    "# .txtファイルからデータを読み込む\n",
    "def read_txt_to_dataframe(file_path):\n",
    "    # ファイルを読み込み、各行をリストに格納\n",
    "    with open(file_path, 'r', encoding='utf-8-sig') as file:\n",
    "        lines = file.readlines()\n",
    "\n",
    "    # 各行をカンマで分割してデータフレームに変換\n",
    "    data = [line.strip().split(',') for line in lines]\n",
    "\n",
    "    # データフレームに変換\n",
    "    df = pd.DataFrame(data)\n",
    "    return df"
   ]
  },
  {
   "cell_type": "code",
   "execution_count": 17,
   "metadata": {},
   "outputs": [
    {
     "name": "stdout",
     "output_type": "stream",
     "text": [
      "64.20468 0.625\n",
      "91.48247 0.4347826\n",
      "92.19135 0.5882353\n",
      "115.5534 0.3333333\n",
      "55.9549 0.5263158\n",
      "   Method       Time  Accuracy\n",
      "0      -1   64.20468  0.625000\n",
      "1       0   91.48247  0.434783\n",
      "2       1   92.19135  0.588235\n",
      "3       2  115.55340  0.333333\n",
      "4       3   55.95490  0.526316\n"
     ]
    }
   ],
   "source": [
    "root_path = r\"C:\\Users\\takaharayota\\Research\\Exp2-data\\test-2\\values\"\n",
    "files_paths = [\n",
    "     root_path + r\"\\音無し.txt\",\n",
    "    root_path + r\"\\離散指数.txt\",\n",
    "     root_path + r\"\\連続指数.txt\",\n",
    "      root_path + r\"\\連続線形.txt\",\n",
    "       root_path + r\"\\離散線形.txt\",\n",
    "    \n",
    "]\n",
    "# 全てのフォルダを処理し、結果を統合\n",
    "all_results = []\n",
    "for i, file_path in enumerate(files_paths):\n",
    "    df = calculate_time_averages(read_txt_to_dataframe(file_path),i-1)\n",
    "    \n",
    "    all_results.extend(df)\n",
    "columns = ['Method', 'Time','Accuracy']\n",
    "df_all = pd.DataFrame(all_results, columns=columns)\n",
    "\n",
    "print(df_all)\n"
   ]
  },
  {
   "cell_type": "code",
   "execution_count": null,
   "metadata": {},
   "outputs": [],
   "source": []
  }
 ],
 "metadata": {
  "kernelspec": {
   "display_name": "Python 3",
   "language": "python",
   "name": "python3"
  },
  "language_info": {
   "codemirror_mode": {
    "name": "ipython",
    "version": 3
   },
   "file_extension": ".py",
   "mimetype": "text/x-python",
   "name": "python",
   "nbconvert_exporter": "python",
   "pygments_lexer": "ipython3",
   "version": "3.12.4"
  }
 },
 "nbformat": 4,
 "nbformat_minor": 2
}
