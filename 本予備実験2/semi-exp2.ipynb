{
 "cells": [
  {
   "cell_type": "code",
   "execution_count": 6,
   "metadata": {},
   "outputs": [
    {
     "name": "stdout",
     "output_type": "stream",
     "text": [
      "Frequency一致率: 63.33% (19/30)\n",
      "Amplitude一致率: 66.67% (20/30)\n",
      "Pan一致率: 53.33% (16/30)\n"
     ]
    }
   ],
   "source": [
    "# 必要なライブラリをインポート\n",
    "import pandas as pd\n",
    "\n",
    "# ファイルパスを指定\n",
    "file_path = \"5_5_5_All_20241125193915.txt\"\n",
    "\n",
    "# 一致数と総数を各カテゴリごとに格納する辞書\n",
    "categories = [\"Frequency\", \"Amplitude\", \"Pan\"]\n",
    "results = {category: {\"match_count\": 0, \"total_count\": 0} for category in categories}\n",
    "\n",
    "# デバッグ用: 欠損行を記録するリスト\n",
    "missing_entries = {category: [] for category in categories}\n",
    "\n",
    "# ファイルをUTF-8 with BOMエンコーディングで読み込み（BOMを削除）\n",
    "with open(file_path, \"r\", encoding=\"utf-8-sig\") as file:\n",
    "    for line_num, line in enumerate(file, 1):  # 行番号を記録\n",
    "        # デバッグ: 行内容を表示\n",
    "        # print(f\"Line {line_num}: {line.strip()}\")\n",
    "\n",
    "        # 各行をカンマで分割してキーと値のペアに分ける\n",
    "        pairs = line.strip().split(\",\")\n",
    "        indices = {}\n",
    "        \n",
    "        try:\n",
    "            # デバッグ: 分割内容を表示\n",
    "            # print(f\"Pairs on Line {line_num}: {pairs}\")\n",
    "            \n",
    "            for pair in pairs:\n",
    "                # キーと値を分離して辞書に保存\n",
    "                key, value = pair.split(\":\")\n",
    "                indices[key.strip()] = int(value.strip())\n",
    "\n",
    "            # デバッグ: 辞書の内容を表示\n",
    "            # print(f\"Indices on Line {line_num}: {indices}\")\n",
    "            \n",
    "            # 各カテゴリについて一致率を計算\n",
    "            for category in categories:\n",
    "                ans_key = f\"ans{category}Index\"\n",
    "                resolution_key = f\"{category.lower()}ResolutionIndex\"\n",
    "                if ans_key in indices and resolution_key in indices:\n",
    "                    results[category][\"total_count\"] += 1\n",
    "                    if indices[ans_key] == indices[resolution_key]:\n",
    "                        results[category][\"match_count\"] += 1\n",
    "                    # デバッグ: 比較内容を表示\n",
    "                    # print(f\"Comparing {ans_key}={indices[ans_key]} with {resolution_key}={indices[resolution_key]}\")\n",
    "                else:\n",
    "                    # 欠損がある場合に記録\n",
    "                    missing_entries[category].append(line_num)\n",
    "                    print(f\"Missing keys on Line {line_num}: {ans_key} or {resolution_key}\")\n",
    "        except Exception as e:\n",
    "            print(f\"Error processing Line {line_num}: {e}\")\n",
    "\n",
    "# 一致率を計算して表示\n",
    "for category in categories:\n",
    "    match_count = results[category][\"match_count\"]\n",
    "    total_count = results[category][\"total_count\"]\n",
    "    match_probability = match_count / total_count if total_count > 0 else 0\n",
    "    print(f\"{category}一致率: {match_probability:.2%} ({match_count}/{total_count})\")\n",
    "\n",
    "# デバッグ情報を表示\n",
    "for category, lines in missing_entries.items():\n",
    "    if lines:\n",
    "        print(f\"{category} 欠損行番号: {lines}\")\n"
   ]
  },
  {
   "cell_type": "code",
   "execution_count": null,
   "metadata": {},
   "outputs": [],
   "source": []
  }
 ],
 "metadata": {
  "kernelspec": {
   "display_name": "Python 3",
   "language": "python",
   "name": "python3"
  },
  "language_info": {
   "codemirror_mode": {
    "name": "ipython",
    "version": 3
   },
   "file_extension": ".py",
   "mimetype": "text/x-python",
   "name": "python",
   "nbconvert_exporter": "python",
   "pygments_lexer": "ipython3",
   "version": "3.12.4"
  }
 },
 "nbformat": 4,
 "nbformat_minor": 2
}
